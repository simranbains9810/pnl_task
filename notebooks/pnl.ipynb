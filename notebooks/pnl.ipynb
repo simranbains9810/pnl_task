{
  "nbformat": 4,
  "nbformat_minor": 0,
  "metadata": {
    "colab": {
      "provenance": []
    },
    "kernelspec": {
      "name": "python3",
      "display_name": "Python 3"
    },
    "language_info": {
      "name": "python"
    }
  },
  "cells": [
    {
      "cell_type": "markdown",
      "source": [
        "# **PnL Data Pipeline**"
      ],
      "metadata": {
        "id": "wxCNkugfMqHx"
      }
    },
    {
      "cell_type": "markdown",
      "source": [
        "*By Simran Bains*\n",
        "\n",
        "---"
      ],
      "metadata": {
        "id": "u8bD8YJDNKXX"
      }
    },
    {
      "cell_type": "markdown",
      "source": [
        "### Table of Contents\n",
        "1. [Input Data 🗒](#input-data-)\n",
        "2. [Parsing, Cleaning & Transformations 🧽](#parsing-cleaning--transformations-)\n",
        "3. [Value at Risk (VaR) Calculation 🔢](#value-at-risk-var-calculation-)\n",
        "4. [Output Results and Data Storage 📈](#output-results-and-data-storage-)\n"
      ],
      "metadata": {
        "id": "Df-mPg7POwDy"
      }
    },
    {
      "cell_type": "code",
      "source": [
        "#Standard\n",
        "import pandas as pd\n",
        "import numpy as np\n",
        "import matplotlib.pyplot as plt\n",
        "import seaborn as sns\n",
        "import time\n",
        "%matplotlib inline\n",
        "\n",
        "#Additional\n",
        "from google.colab import files\n",
        "from datetime import datetime\n",
        "import os"
      ],
      "metadata": {
        "id": "wF5z3YL2NFv5"
      },
      "execution_count": 26,
      "outputs": []
    },
    {
      "cell_type": "markdown",
      "source": [
        "##1. Input Data 🗒"
      ],
      "metadata": {
        "id": "tmi7SLPBYLqX"
      }
    },
    {
      "cell_type": "code",
      "source": [
        "uploaded = files.upload()"
      ],
      "metadata": {
        "colab": {
          "base_uri": "https://localhost:8080/",
          "height": 74
        },
        "id": "du2xxltBSwgB",
        "outputId": "8b7a595c-d41e-499c-c0e3-b8085d61787d"
      },
      "execution_count": 2,
      "outputs": [
        {
          "output_type": "display_data",
          "data": {
            "text/plain": [
              "<IPython.core.display.HTML object>"
            ],
            "text/html": [
              "\n",
              "     <input type=\"file\" id=\"files-91c32bf0-f339-4d55-9e31-5625b0d8533a\" name=\"files[]\" multiple disabled\n",
              "        style=\"border:none\" />\n",
              "     <output id=\"result-91c32bf0-f339-4d55-9e31-5625b0d8533a\">\n",
              "      Upload widget is only available when the cell has been executed in the\n",
              "      current browser session. Please rerun this cell to enable.\n",
              "      </output>\n",
              "      <script>// Copyright 2017 Google LLC\n",
              "//\n",
              "// Licensed under the Apache License, Version 2.0 (the \"License\");\n",
              "// you may not use this file except in compliance with the License.\n",
              "// You may obtain a copy of the License at\n",
              "//\n",
              "//      http://www.apache.org/licenses/LICENSE-2.0\n",
              "//\n",
              "// Unless required by applicable law or agreed to in writing, software\n",
              "// distributed under the License is distributed on an \"AS IS\" BASIS,\n",
              "// WITHOUT WARRANTIES OR CONDITIONS OF ANY KIND, either express or implied.\n",
              "// See the License for the specific language governing permissions and\n",
              "// limitations under the License.\n",
              "\n",
              "/**\n",
              " * @fileoverview Helpers for google.colab Python module.\n",
              " */\n",
              "(function(scope) {\n",
              "function span(text, styleAttributes = {}) {\n",
              "  const element = document.createElement('span');\n",
              "  element.textContent = text;\n",
              "  for (const key of Object.keys(styleAttributes)) {\n",
              "    element.style[key] = styleAttributes[key];\n",
              "  }\n",
              "  return element;\n",
              "}\n",
              "\n",
              "// Max number of bytes which will be uploaded at a time.\n",
              "const MAX_PAYLOAD_SIZE = 100 * 1024;\n",
              "\n",
              "function _uploadFiles(inputId, outputId) {\n",
              "  const steps = uploadFilesStep(inputId, outputId);\n",
              "  const outputElement = document.getElementById(outputId);\n",
              "  // Cache steps on the outputElement to make it available for the next call\n",
              "  // to uploadFilesContinue from Python.\n",
              "  outputElement.steps = steps;\n",
              "\n",
              "  return _uploadFilesContinue(outputId);\n",
              "}\n",
              "\n",
              "// This is roughly an async generator (not supported in the browser yet),\n",
              "// where there are multiple asynchronous steps and the Python side is going\n",
              "// to poll for completion of each step.\n",
              "// This uses a Promise to block the python side on completion of each step,\n",
              "// then passes the result of the previous step as the input to the next step.\n",
              "function _uploadFilesContinue(outputId) {\n",
              "  const outputElement = document.getElementById(outputId);\n",
              "  const steps = outputElement.steps;\n",
              "\n",
              "  const next = steps.next(outputElement.lastPromiseValue);\n",
              "  return Promise.resolve(next.value.promise).then((value) => {\n",
              "    // Cache the last promise value to make it available to the next\n",
              "    // step of the generator.\n",
              "    outputElement.lastPromiseValue = value;\n",
              "    return next.value.response;\n",
              "  });\n",
              "}\n",
              "\n",
              "/**\n",
              " * Generator function which is called between each async step of the upload\n",
              " * process.\n",
              " * @param {string} inputId Element ID of the input file picker element.\n",
              " * @param {string} outputId Element ID of the output display.\n",
              " * @return {!Iterable<!Object>} Iterable of next steps.\n",
              " */\n",
              "function* uploadFilesStep(inputId, outputId) {\n",
              "  const inputElement = document.getElementById(inputId);\n",
              "  inputElement.disabled = false;\n",
              "\n",
              "  const outputElement = document.getElementById(outputId);\n",
              "  outputElement.innerHTML = '';\n",
              "\n",
              "  const pickedPromise = new Promise((resolve) => {\n",
              "    inputElement.addEventListener('change', (e) => {\n",
              "      resolve(e.target.files);\n",
              "    });\n",
              "  });\n",
              "\n",
              "  const cancel = document.createElement('button');\n",
              "  inputElement.parentElement.appendChild(cancel);\n",
              "  cancel.textContent = 'Cancel upload';\n",
              "  const cancelPromise = new Promise((resolve) => {\n",
              "    cancel.onclick = () => {\n",
              "      resolve(null);\n",
              "    };\n",
              "  });\n",
              "\n",
              "  // Wait for the user to pick the files.\n",
              "  const files = yield {\n",
              "    promise: Promise.race([pickedPromise, cancelPromise]),\n",
              "    response: {\n",
              "      action: 'starting',\n",
              "    }\n",
              "  };\n",
              "\n",
              "  cancel.remove();\n",
              "\n",
              "  // Disable the input element since further picks are not allowed.\n",
              "  inputElement.disabled = true;\n",
              "\n",
              "  if (!files) {\n",
              "    return {\n",
              "      response: {\n",
              "        action: 'complete',\n",
              "      }\n",
              "    };\n",
              "  }\n",
              "\n",
              "  for (const file of files) {\n",
              "    const li = document.createElement('li');\n",
              "    li.append(span(file.name, {fontWeight: 'bold'}));\n",
              "    li.append(span(\n",
              "        `(${file.type || 'n/a'}) - ${file.size} bytes, ` +\n",
              "        `last modified: ${\n",
              "            file.lastModifiedDate ? file.lastModifiedDate.toLocaleDateString() :\n",
              "                                    'n/a'} - `));\n",
              "    const percent = span('0% done');\n",
              "    li.appendChild(percent);\n",
              "\n",
              "    outputElement.appendChild(li);\n",
              "\n",
              "    const fileDataPromise = new Promise((resolve) => {\n",
              "      const reader = new FileReader();\n",
              "      reader.onload = (e) => {\n",
              "        resolve(e.target.result);\n",
              "      };\n",
              "      reader.readAsArrayBuffer(file);\n",
              "    });\n",
              "    // Wait for the data to be ready.\n",
              "    let fileData = yield {\n",
              "      promise: fileDataPromise,\n",
              "      response: {\n",
              "        action: 'continue',\n",
              "      }\n",
              "    };\n",
              "\n",
              "    // Use a chunked sending to avoid message size limits. See b/62115660.\n",
              "    let position = 0;\n",
              "    do {\n",
              "      const length = Math.min(fileData.byteLength - position, MAX_PAYLOAD_SIZE);\n",
              "      const chunk = new Uint8Array(fileData, position, length);\n",
              "      position += length;\n",
              "\n",
              "      const base64 = btoa(String.fromCharCode.apply(null, chunk));\n",
              "      yield {\n",
              "        response: {\n",
              "          action: 'append',\n",
              "          file: file.name,\n",
              "          data: base64,\n",
              "        },\n",
              "      };\n",
              "\n",
              "      let percentDone = fileData.byteLength === 0 ?\n",
              "          100 :\n",
              "          Math.round((position / fileData.byteLength) * 100);\n",
              "      percent.textContent = `${percentDone}% done`;\n",
              "\n",
              "    } while (position < fileData.byteLength);\n",
              "  }\n",
              "\n",
              "  // All done.\n",
              "  yield {\n",
              "    response: {\n",
              "      action: 'complete',\n",
              "    }\n",
              "  };\n",
              "}\n",
              "\n",
              "scope.google = scope.google || {};\n",
              "scope.google.colab = scope.google.colab || {};\n",
              "scope.google.colab._files = {\n",
              "  _uploadFiles,\n",
              "  _uploadFilesContinue,\n",
              "};\n",
              "})(self);\n",
              "</script> "
            ]
          },
          "metadata": {}
        },
        {
          "output_type": "stream",
          "name": "stdout",
          "text": [
            "Saving data_engineer_sample_data.csv to data_engineer_sample_data (2).csv\n"
          ]
        }
      ]
    },
    {
      "cell_type": "code",
      "source": [
        "df = pd.read_csv(\"data_engineer_sample_data.csv\", header=None)\n",
        "df.head()"
      ],
      "metadata": {
        "colab": {
          "base_uri": "https://localhost:8080/",
          "height": 206
        },
        "id": "ka15j4lJSw9z",
        "outputId": "050938a4-e292-4f9d-90db-92e90e681c23"
      },
      "execution_count": 3,
      "outputs": [
        {
          "output_type": "execute_result",
          "data": {
            "text/plain": [
              "         0            1                2        3\n",
              "0  TradeID  PortfolioId     businessDate      PnL\n",
              "1     T123          101  10/1/2024 14:30   1500.5\n",
              "2     T123          102        10/1/2024  2000.75\n",
              "3     T123          101   10/2/2024 9:15  -500.25\n",
              "4     T124          102        10/1/2024      300"
            ],
            "text/html": [
              "\n",
              "  <div id=\"df-26f51480-8301-43af-947b-24fd2fcd5363\" class=\"colab-df-container\">\n",
              "    <div>\n",
              "<style scoped>\n",
              "    .dataframe tbody tr th:only-of-type {\n",
              "        vertical-align: middle;\n",
              "    }\n",
              "\n",
              "    .dataframe tbody tr th {\n",
              "        vertical-align: top;\n",
              "    }\n",
              "\n",
              "    .dataframe thead th {\n",
              "        text-align: right;\n",
              "    }\n",
              "</style>\n",
              "<table border=\"1\" class=\"dataframe\">\n",
              "  <thead>\n",
              "    <tr style=\"text-align: right;\">\n",
              "      <th></th>\n",
              "      <th>0</th>\n",
              "      <th>1</th>\n",
              "      <th>2</th>\n",
              "      <th>3</th>\n",
              "    </tr>\n",
              "  </thead>\n",
              "  <tbody>\n",
              "    <tr>\n",
              "      <th>0</th>\n",
              "      <td>TradeID</td>\n",
              "      <td>PortfolioId</td>\n",
              "      <td>businessDate</td>\n",
              "      <td>PnL</td>\n",
              "    </tr>\n",
              "    <tr>\n",
              "      <th>1</th>\n",
              "      <td>T123</td>\n",
              "      <td>101</td>\n",
              "      <td>10/1/2024 14:30</td>\n",
              "      <td>1500.5</td>\n",
              "    </tr>\n",
              "    <tr>\n",
              "      <th>2</th>\n",
              "      <td>T123</td>\n",
              "      <td>102</td>\n",
              "      <td>10/1/2024</td>\n",
              "      <td>2000.75</td>\n",
              "    </tr>\n",
              "    <tr>\n",
              "      <th>3</th>\n",
              "      <td>T123</td>\n",
              "      <td>101</td>\n",
              "      <td>10/2/2024 9:15</td>\n",
              "      <td>-500.25</td>\n",
              "    </tr>\n",
              "    <tr>\n",
              "      <th>4</th>\n",
              "      <td>T124</td>\n",
              "      <td>102</td>\n",
              "      <td>10/1/2024</td>\n",
              "      <td>300</td>\n",
              "    </tr>\n",
              "  </tbody>\n",
              "</table>\n",
              "</div>\n",
              "    <div class=\"colab-df-buttons\">\n",
              "\n",
              "  <div class=\"colab-df-container\">\n",
              "    <button class=\"colab-df-convert\" onclick=\"convertToInteractive('df-26f51480-8301-43af-947b-24fd2fcd5363')\"\n",
              "            title=\"Convert this dataframe to an interactive table.\"\n",
              "            style=\"display:none;\">\n",
              "\n",
              "  <svg xmlns=\"http://www.w3.org/2000/svg\" height=\"24px\" viewBox=\"0 -960 960 960\">\n",
              "    <path d=\"M120-120v-720h720v720H120Zm60-500h600v-160H180v160Zm220 220h160v-160H400v160Zm0 220h160v-160H400v160ZM180-400h160v-160H180v160Zm440 0h160v-160H620v160ZM180-180h160v-160H180v160Zm440 0h160v-160H620v160Z\"/>\n",
              "  </svg>\n",
              "    </button>\n",
              "\n",
              "  <style>\n",
              "    .colab-df-container {\n",
              "      display:flex;\n",
              "      gap: 12px;\n",
              "    }\n",
              "\n",
              "    .colab-df-convert {\n",
              "      background-color: #E8F0FE;\n",
              "      border: none;\n",
              "      border-radius: 50%;\n",
              "      cursor: pointer;\n",
              "      display: none;\n",
              "      fill: #1967D2;\n",
              "      height: 32px;\n",
              "      padding: 0 0 0 0;\n",
              "      width: 32px;\n",
              "    }\n",
              "\n",
              "    .colab-df-convert:hover {\n",
              "      background-color: #E2EBFA;\n",
              "      box-shadow: 0px 1px 2px rgba(60, 64, 67, 0.3), 0px 1px 3px 1px rgba(60, 64, 67, 0.15);\n",
              "      fill: #174EA6;\n",
              "    }\n",
              "\n",
              "    .colab-df-buttons div {\n",
              "      margin-bottom: 4px;\n",
              "    }\n",
              "\n",
              "    [theme=dark] .colab-df-convert {\n",
              "      background-color: #3B4455;\n",
              "      fill: #D2E3FC;\n",
              "    }\n",
              "\n",
              "    [theme=dark] .colab-df-convert:hover {\n",
              "      background-color: #434B5C;\n",
              "      box-shadow: 0px 1px 3px 1px rgba(0, 0, 0, 0.15);\n",
              "      filter: drop-shadow(0px 1px 2px rgba(0, 0, 0, 0.3));\n",
              "      fill: #FFFFFF;\n",
              "    }\n",
              "  </style>\n",
              "\n",
              "    <script>\n",
              "      const buttonEl =\n",
              "        document.querySelector('#df-26f51480-8301-43af-947b-24fd2fcd5363 button.colab-df-convert');\n",
              "      buttonEl.style.display =\n",
              "        google.colab.kernel.accessAllowed ? 'block' : 'none';\n",
              "\n",
              "      async function convertToInteractive(key) {\n",
              "        const element = document.querySelector('#df-26f51480-8301-43af-947b-24fd2fcd5363');\n",
              "        const dataTable =\n",
              "          await google.colab.kernel.invokeFunction('convertToInteractive',\n",
              "                                                    [key], {});\n",
              "        if (!dataTable) return;\n",
              "\n",
              "        const docLinkHtml = 'Like what you see? Visit the ' +\n",
              "          '<a target=\"_blank\" href=https://colab.research.google.com/notebooks/data_table.ipynb>data table notebook</a>'\n",
              "          + ' to learn more about interactive tables.';\n",
              "        element.innerHTML = '';\n",
              "        dataTable['output_type'] = 'display_data';\n",
              "        await google.colab.output.renderOutput(dataTable, element);\n",
              "        const docLink = document.createElement('div');\n",
              "        docLink.innerHTML = docLinkHtml;\n",
              "        element.appendChild(docLink);\n",
              "      }\n",
              "    </script>\n",
              "  </div>\n",
              "\n",
              "\n",
              "<div id=\"df-652e9ac7-3fe7-412e-b8b2-c4d6cd917ea4\">\n",
              "  <button class=\"colab-df-quickchart\" onclick=\"quickchart('df-652e9ac7-3fe7-412e-b8b2-c4d6cd917ea4')\"\n",
              "            title=\"Suggest charts\"\n",
              "            style=\"display:none;\">\n",
              "\n",
              "<svg xmlns=\"http://www.w3.org/2000/svg\" height=\"24px\"viewBox=\"0 0 24 24\"\n",
              "     width=\"24px\">\n",
              "    <g>\n",
              "        <path d=\"M19 3H5c-1.1 0-2 .9-2 2v14c0 1.1.9 2 2 2h14c1.1 0 2-.9 2-2V5c0-1.1-.9-2-2-2zM9 17H7v-7h2v7zm4 0h-2V7h2v10zm4 0h-2v-4h2v4z\"/>\n",
              "    </g>\n",
              "</svg>\n",
              "  </button>\n",
              "\n",
              "<style>\n",
              "  .colab-df-quickchart {\n",
              "      --bg-color: #E8F0FE;\n",
              "      --fill-color: #1967D2;\n",
              "      --hover-bg-color: #E2EBFA;\n",
              "      --hover-fill-color: #174EA6;\n",
              "      --disabled-fill-color: #AAA;\n",
              "      --disabled-bg-color: #DDD;\n",
              "  }\n",
              "\n",
              "  [theme=dark] .colab-df-quickchart {\n",
              "      --bg-color: #3B4455;\n",
              "      --fill-color: #D2E3FC;\n",
              "      --hover-bg-color: #434B5C;\n",
              "      --hover-fill-color: #FFFFFF;\n",
              "      --disabled-bg-color: #3B4455;\n",
              "      --disabled-fill-color: #666;\n",
              "  }\n",
              "\n",
              "  .colab-df-quickchart {\n",
              "    background-color: var(--bg-color);\n",
              "    border: none;\n",
              "    border-radius: 50%;\n",
              "    cursor: pointer;\n",
              "    display: none;\n",
              "    fill: var(--fill-color);\n",
              "    height: 32px;\n",
              "    padding: 0;\n",
              "    width: 32px;\n",
              "  }\n",
              "\n",
              "  .colab-df-quickchart:hover {\n",
              "    background-color: var(--hover-bg-color);\n",
              "    box-shadow: 0 1px 2px rgba(60, 64, 67, 0.3), 0 1px 3px 1px rgba(60, 64, 67, 0.15);\n",
              "    fill: var(--button-hover-fill-color);\n",
              "  }\n",
              "\n",
              "  .colab-df-quickchart-complete:disabled,\n",
              "  .colab-df-quickchart-complete:disabled:hover {\n",
              "    background-color: var(--disabled-bg-color);\n",
              "    fill: var(--disabled-fill-color);\n",
              "    box-shadow: none;\n",
              "  }\n",
              "\n",
              "  .colab-df-spinner {\n",
              "    border: 2px solid var(--fill-color);\n",
              "    border-color: transparent;\n",
              "    border-bottom-color: var(--fill-color);\n",
              "    animation:\n",
              "      spin 1s steps(1) infinite;\n",
              "  }\n",
              "\n",
              "  @keyframes spin {\n",
              "    0% {\n",
              "      border-color: transparent;\n",
              "      border-bottom-color: var(--fill-color);\n",
              "      border-left-color: var(--fill-color);\n",
              "    }\n",
              "    20% {\n",
              "      border-color: transparent;\n",
              "      border-left-color: var(--fill-color);\n",
              "      border-top-color: var(--fill-color);\n",
              "    }\n",
              "    30% {\n",
              "      border-color: transparent;\n",
              "      border-left-color: var(--fill-color);\n",
              "      border-top-color: var(--fill-color);\n",
              "      border-right-color: var(--fill-color);\n",
              "    }\n",
              "    40% {\n",
              "      border-color: transparent;\n",
              "      border-right-color: var(--fill-color);\n",
              "      border-top-color: var(--fill-color);\n",
              "    }\n",
              "    60% {\n",
              "      border-color: transparent;\n",
              "      border-right-color: var(--fill-color);\n",
              "    }\n",
              "    80% {\n",
              "      border-color: transparent;\n",
              "      border-right-color: var(--fill-color);\n",
              "      border-bottom-color: var(--fill-color);\n",
              "    }\n",
              "    90% {\n",
              "      border-color: transparent;\n",
              "      border-bottom-color: var(--fill-color);\n",
              "    }\n",
              "  }\n",
              "</style>\n",
              "\n",
              "  <script>\n",
              "    async function quickchart(key) {\n",
              "      const quickchartButtonEl =\n",
              "        document.querySelector('#' + key + ' button');\n",
              "      quickchartButtonEl.disabled = true;  // To prevent multiple clicks.\n",
              "      quickchartButtonEl.classList.add('colab-df-spinner');\n",
              "      try {\n",
              "        const charts = await google.colab.kernel.invokeFunction(\n",
              "            'suggestCharts', [key], {});\n",
              "      } catch (error) {\n",
              "        console.error('Error during call to suggestCharts:', error);\n",
              "      }\n",
              "      quickchartButtonEl.classList.remove('colab-df-spinner');\n",
              "      quickchartButtonEl.classList.add('colab-df-quickchart-complete');\n",
              "    }\n",
              "    (() => {\n",
              "      let quickchartButtonEl =\n",
              "        document.querySelector('#df-652e9ac7-3fe7-412e-b8b2-c4d6cd917ea4 button');\n",
              "      quickchartButtonEl.style.display =\n",
              "        google.colab.kernel.accessAllowed ? 'block' : 'none';\n",
              "    })();\n",
              "  </script>\n",
              "</div>\n",
              "\n",
              "    </div>\n",
              "  </div>\n"
            ],
            "application/vnd.google.colaboratory.intrinsic+json": {
              "type": "dataframe",
              "variable_name": "df",
              "summary": "{\n  \"name\": \"df\",\n  \"rows\": 180,\n  \"fields\": [\n    {\n      \"column\": 0,\n      \"properties\": {\n        \"dtype\": \"category\",\n        \"num_unique_values\": 88,\n        \"samples\": [\n          \"T198\",\n          \"TradeID\",\n          \"T148\"\n        ],\n        \"semantic_type\": \"\",\n        \"description\": \"\"\n      }\n    },\n    {\n      \"column\": 1,\n      \"properties\": {\n        \"dtype\": \"category\",\n        \"num_unique_values\": 11,\n        \"samples\": [\n          \"105\",\n          \"PortfolioId\",\n          \"109\"\n        ],\n        \"semantic_type\": \"\",\n        \"description\": \"\"\n      }\n    },\n    {\n      \"column\": 2,\n      \"properties\": {\n        \"dtype\": \"string\",\n        \"num_unique_values\": 179,\n        \"samples\": [\n          \"11/11/2024 12:15\",\n          \"11/10/2024 10:00\",\n          \"11/5/2024\"\n        ],\n        \"semantic_type\": \"\",\n        \"description\": \"\"\n      }\n    },\n    {\n      \"column\": 3,\n      \"properties\": {\n        \"dtype\": \"string\",\n        \"num_unique_values\": 172,\n        \"samples\": [\n          \"4050.5\",\n          \"10250\",\n          \"11650.5\"\n        ],\n        \"semantic_type\": \"\",\n        \"description\": \"\"\n      }\n    }\n  ]\n}"
            }
          },
          "metadata": {},
          "execution_count": 3
        }
      ]
    },
    {
      "cell_type": "code",
      "source": [
        "#Column identification\n",
        "df.columns = [\"TradeID\", \"PortfolioId\", \"businessDate\", \"PnL\"]\n",
        "print(\"Original Columns:\", df.columns)"
      ],
      "metadata": {
        "colab": {
          "base_uri": "https://localhost:8080/"
        },
        "id": "9hxDte0tYn8E",
        "outputId": "d549e611-6a8b-47a2-9fc4-8cdcaf581037"
      },
      "execution_count": 4,
      "outputs": [
        {
          "output_type": "stream",
          "name": "stdout",
          "text": [
            "Original Columns: Index(['TradeID', 'PortfolioId', 'businessDate', 'PnL'], dtype='object')\n"
          ]
        }
      ]
    },
    {
      "cell_type": "code",
      "source": [
        "#Renaming columns to meet specification requirements\n",
        "df.rename(columns={\"PortfolioId\": \"BookId\", \"businessDate\": \"PnLDate\"}, inplace=True)"
      ],
      "metadata": {
        "id": "uyqQyjf_UnAA"
      },
      "execution_count": 5,
      "outputs": []
    },
    {
      "cell_type": "code",
      "source": [
        "#Converting PnLDate to string format\n",
        "df[\"PnLDate\"] = pd.to_datetime(df[\"PnLDate\"], errors=\"coerce\").dt.strftime(\"%Y-%m-%d\")\n",
        "\n",
        "#Ensuring numeric variable for BookID\n",
        "df[\"BookId\"] = pd.to_numeric(df[\"BookId\"], errors=\"coerce\")\n",
        "\n",
        "#Ensuring float variable for PnL\n",
        "df[\"PnL\"] = pd.to_numeric(df[\"PnL\"], errors=\"coerce\")\n",
        "\n",
        "print(df)"
      ],
      "metadata": {
        "colab": {
          "base_uri": "https://localhost:8080/"
        },
        "id": "DFa6xT5sWsCI",
        "outputId": "aa655f47-e7c8-42ea-9603-30738e8a81a8"
      },
      "execution_count": 6,
      "outputs": [
        {
          "output_type": "stream",
          "name": "stdout",
          "text": [
            "     TradeID  BookId     PnLDate       PnL\n",
            "0    TradeID     NaN         NaN       NaN\n",
            "1       T123   101.0  2024-10-01   1500.50\n",
            "2       T123   102.0  2024-10-01   2000.75\n",
            "3       T123   101.0  2024-10-02   -500.25\n",
            "4       T124   102.0  2024-10-01    300.00\n",
            "..       ...     ...         ...       ...\n",
            "175     T207   106.0  2024-12-29  13150.75\n",
            "176     T208   107.0  2024-12-30  13250.50\n",
            "177     T208   108.0  2024-12-30 -13350.25\n",
            "178     T209   109.0  2024-12-31  13450.00\n",
            "179     T209   110.0  2024-12-31 -13550.75\n",
            "\n",
            "[180 rows x 4 columns]\n"
          ]
        },
        {
          "output_type": "stream",
          "name": "stderr",
          "text": [
            "<ipython-input-6-f65e8e67292e>:2: UserWarning: Could not infer format, so each element will be parsed individually, falling back to `dateutil`. To ensure parsing is consistent and as-expected, please specify a format.\n",
            "  df[\"PnLDate\"] = pd.to_datetime(df[\"PnLDate\"], errors=\"coerce\").dt.strftime(\"%Y-%m-%d\")\n"
          ]
        }
      ]
    },
    {
      "cell_type": "markdown",
      "source": [
        "## 2. Parsing, Cleaning & Transformations 🧽"
      ],
      "metadata": {
        "id": "D5yjEQcgZ3qV"
      }
    },
    {
      "cell_type": "code",
      "source": [
        "#Removing duplicated header\n",
        "df = df.iloc[1:].reset_index(drop=True)"
      ],
      "metadata": {
        "id": "jlsrg_QXZ6kJ"
      },
      "execution_count": 7,
      "outputs": []
    },
    {
      "cell_type": "code",
      "source": [
        "df.head()"
      ],
      "metadata": {
        "colab": {
          "base_uri": "https://localhost:8080/",
          "height": 206
        },
        "id": "AuCXTAgxbdC9",
        "outputId": "8b0f8cfb-4b5c-4bf3-8763-9af57d2ba176"
      },
      "execution_count": 8,
      "outputs": [
        {
          "output_type": "execute_result",
          "data": {
            "text/plain": [
              "  TradeID  BookId     PnLDate      PnL\n",
              "0    T123   101.0  2024-10-01  1500.50\n",
              "1    T123   102.0  2024-10-01  2000.75\n",
              "2    T123   101.0  2024-10-02  -500.25\n",
              "3    T124   102.0  2024-10-01   300.00\n",
              "4    T124   103.0  2024-01-10     0.00"
            ],
            "text/html": [
              "\n",
              "  <div id=\"df-cc33c59e-990d-4f61-9565-1af085d39225\" class=\"colab-df-container\">\n",
              "    <div>\n",
              "<style scoped>\n",
              "    .dataframe tbody tr th:only-of-type {\n",
              "        vertical-align: middle;\n",
              "    }\n",
              "\n",
              "    .dataframe tbody tr th {\n",
              "        vertical-align: top;\n",
              "    }\n",
              "\n",
              "    .dataframe thead th {\n",
              "        text-align: right;\n",
              "    }\n",
              "</style>\n",
              "<table border=\"1\" class=\"dataframe\">\n",
              "  <thead>\n",
              "    <tr style=\"text-align: right;\">\n",
              "      <th></th>\n",
              "      <th>TradeID</th>\n",
              "      <th>BookId</th>\n",
              "      <th>PnLDate</th>\n",
              "      <th>PnL</th>\n",
              "    </tr>\n",
              "  </thead>\n",
              "  <tbody>\n",
              "    <tr>\n",
              "      <th>0</th>\n",
              "      <td>T123</td>\n",
              "      <td>101.0</td>\n",
              "      <td>2024-10-01</td>\n",
              "      <td>1500.50</td>\n",
              "    </tr>\n",
              "    <tr>\n",
              "      <th>1</th>\n",
              "      <td>T123</td>\n",
              "      <td>102.0</td>\n",
              "      <td>2024-10-01</td>\n",
              "      <td>2000.75</td>\n",
              "    </tr>\n",
              "    <tr>\n",
              "      <th>2</th>\n",
              "      <td>T123</td>\n",
              "      <td>101.0</td>\n",
              "      <td>2024-10-02</td>\n",
              "      <td>-500.25</td>\n",
              "    </tr>\n",
              "    <tr>\n",
              "      <th>3</th>\n",
              "      <td>T124</td>\n",
              "      <td>102.0</td>\n",
              "      <td>2024-10-01</td>\n",
              "      <td>300.00</td>\n",
              "    </tr>\n",
              "    <tr>\n",
              "      <th>4</th>\n",
              "      <td>T124</td>\n",
              "      <td>103.0</td>\n",
              "      <td>2024-01-10</td>\n",
              "      <td>0.00</td>\n",
              "    </tr>\n",
              "  </tbody>\n",
              "</table>\n",
              "</div>\n",
              "    <div class=\"colab-df-buttons\">\n",
              "\n",
              "  <div class=\"colab-df-container\">\n",
              "    <button class=\"colab-df-convert\" onclick=\"convertToInteractive('df-cc33c59e-990d-4f61-9565-1af085d39225')\"\n",
              "            title=\"Convert this dataframe to an interactive table.\"\n",
              "            style=\"display:none;\">\n",
              "\n",
              "  <svg xmlns=\"http://www.w3.org/2000/svg\" height=\"24px\" viewBox=\"0 -960 960 960\">\n",
              "    <path d=\"M120-120v-720h720v720H120Zm60-500h600v-160H180v160Zm220 220h160v-160H400v160Zm0 220h160v-160H400v160ZM180-400h160v-160H180v160Zm440 0h160v-160H620v160ZM180-180h160v-160H180v160Zm440 0h160v-160H620v160Z\"/>\n",
              "  </svg>\n",
              "    </button>\n",
              "\n",
              "  <style>\n",
              "    .colab-df-container {\n",
              "      display:flex;\n",
              "      gap: 12px;\n",
              "    }\n",
              "\n",
              "    .colab-df-convert {\n",
              "      background-color: #E8F0FE;\n",
              "      border: none;\n",
              "      border-radius: 50%;\n",
              "      cursor: pointer;\n",
              "      display: none;\n",
              "      fill: #1967D2;\n",
              "      height: 32px;\n",
              "      padding: 0 0 0 0;\n",
              "      width: 32px;\n",
              "    }\n",
              "\n",
              "    .colab-df-convert:hover {\n",
              "      background-color: #E2EBFA;\n",
              "      box-shadow: 0px 1px 2px rgba(60, 64, 67, 0.3), 0px 1px 3px 1px rgba(60, 64, 67, 0.15);\n",
              "      fill: #174EA6;\n",
              "    }\n",
              "\n",
              "    .colab-df-buttons div {\n",
              "      margin-bottom: 4px;\n",
              "    }\n",
              "\n",
              "    [theme=dark] .colab-df-convert {\n",
              "      background-color: #3B4455;\n",
              "      fill: #D2E3FC;\n",
              "    }\n",
              "\n",
              "    [theme=dark] .colab-df-convert:hover {\n",
              "      background-color: #434B5C;\n",
              "      box-shadow: 0px 1px 3px 1px rgba(0, 0, 0, 0.15);\n",
              "      filter: drop-shadow(0px 1px 2px rgba(0, 0, 0, 0.3));\n",
              "      fill: #FFFFFF;\n",
              "    }\n",
              "  </style>\n",
              "\n",
              "    <script>\n",
              "      const buttonEl =\n",
              "        document.querySelector('#df-cc33c59e-990d-4f61-9565-1af085d39225 button.colab-df-convert');\n",
              "      buttonEl.style.display =\n",
              "        google.colab.kernel.accessAllowed ? 'block' : 'none';\n",
              "\n",
              "      async function convertToInteractive(key) {\n",
              "        const element = document.querySelector('#df-cc33c59e-990d-4f61-9565-1af085d39225');\n",
              "        const dataTable =\n",
              "          await google.colab.kernel.invokeFunction('convertToInteractive',\n",
              "                                                    [key], {});\n",
              "        if (!dataTable) return;\n",
              "\n",
              "        const docLinkHtml = 'Like what you see? Visit the ' +\n",
              "          '<a target=\"_blank\" href=https://colab.research.google.com/notebooks/data_table.ipynb>data table notebook</a>'\n",
              "          + ' to learn more about interactive tables.';\n",
              "        element.innerHTML = '';\n",
              "        dataTable['output_type'] = 'display_data';\n",
              "        await google.colab.output.renderOutput(dataTable, element);\n",
              "        const docLink = document.createElement('div');\n",
              "        docLink.innerHTML = docLinkHtml;\n",
              "        element.appendChild(docLink);\n",
              "      }\n",
              "    </script>\n",
              "  </div>\n",
              "\n",
              "\n",
              "<div id=\"df-50a1f9ce-a8c3-4871-ab02-f72bc8357ecd\">\n",
              "  <button class=\"colab-df-quickchart\" onclick=\"quickchart('df-50a1f9ce-a8c3-4871-ab02-f72bc8357ecd')\"\n",
              "            title=\"Suggest charts\"\n",
              "            style=\"display:none;\">\n",
              "\n",
              "<svg xmlns=\"http://www.w3.org/2000/svg\" height=\"24px\"viewBox=\"0 0 24 24\"\n",
              "     width=\"24px\">\n",
              "    <g>\n",
              "        <path d=\"M19 3H5c-1.1 0-2 .9-2 2v14c0 1.1.9 2 2 2h14c1.1 0 2-.9 2-2V5c0-1.1-.9-2-2-2zM9 17H7v-7h2v7zm4 0h-2V7h2v10zm4 0h-2v-4h2v4z\"/>\n",
              "    </g>\n",
              "</svg>\n",
              "  </button>\n",
              "\n",
              "<style>\n",
              "  .colab-df-quickchart {\n",
              "      --bg-color: #E8F0FE;\n",
              "      --fill-color: #1967D2;\n",
              "      --hover-bg-color: #E2EBFA;\n",
              "      --hover-fill-color: #174EA6;\n",
              "      --disabled-fill-color: #AAA;\n",
              "      --disabled-bg-color: #DDD;\n",
              "  }\n",
              "\n",
              "  [theme=dark] .colab-df-quickchart {\n",
              "      --bg-color: #3B4455;\n",
              "      --fill-color: #D2E3FC;\n",
              "      --hover-bg-color: #434B5C;\n",
              "      --hover-fill-color: #FFFFFF;\n",
              "      --disabled-bg-color: #3B4455;\n",
              "      --disabled-fill-color: #666;\n",
              "  }\n",
              "\n",
              "  .colab-df-quickchart {\n",
              "    background-color: var(--bg-color);\n",
              "    border: none;\n",
              "    border-radius: 50%;\n",
              "    cursor: pointer;\n",
              "    display: none;\n",
              "    fill: var(--fill-color);\n",
              "    height: 32px;\n",
              "    padding: 0;\n",
              "    width: 32px;\n",
              "  }\n",
              "\n",
              "  .colab-df-quickchart:hover {\n",
              "    background-color: var(--hover-bg-color);\n",
              "    box-shadow: 0 1px 2px rgba(60, 64, 67, 0.3), 0 1px 3px 1px rgba(60, 64, 67, 0.15);\n",
              "    fill: var(--button-hover-fill-color);\n",
              "  }\n",
              "\n",
              "  .colab-df-quickchart-complete:disabled,\n",
              "  .colab-df-quickchart-complete:disabled:hover {\n",
              "    background-color: var(--disabled-bg-color);\n",
              "    fill: var(--disabled-fill-color);\n",
              "    box-shadow: none;\n",
              "  }\n",
              "\n",
              "  .colab-df-spinner {\n",
              "    border: 2px solid var(--fill-color);\n",
              "    border-color: transparent;\n",
              "    border-bottom-color: var(--fill-color);\n",
              "    animation:\n",
              "      spin 1s steps(1) infinite;\n",
              "  }\n",
              "\n",
              "  @keyframes spin {\n",
              "    0% {\n",
              "      border-color: transparent;\n",
              "      border-bottom-color: var(--fill-color);\n",
              "      border-left-color: var(--fill-color);\n",
              "    }\n",
              "    20% {\n",
              "      border-color: transparent;\n",
              "      border-left-color: var(--fill-color);\n",
              "      border-top-color: var(--fill-color);\n",
              "    }\n",
              "    30% {\n",
              "      border-color: transparent;\n",
              "      border-left-color: var(--fill-color);\n",
              "      border-top-color: var(--fill-color);\n",
              "      border-right-color: var(--fill-color);\n",
              "    }\n",
              "    40% {\n",
              "      border-color: transparent;\n",
              "      border-right-color: var(--fill-color);\n",
              "      border-top-color: var(--fill-color);\n",
              "    }\n",
              "    60% {\n",
              "      border-color: transparent;\n",
              "      border-right-color: var(--fill-color);\n",
              "    }\n",
              "    80% {\n",
              "      border-color: transparent;\n",
              "      border-right-color: var(--fill-color);\n",
              "      border-bottom-color: var(--fill-color);\n",
              "    }\n",
              "    90% {\n",
              "      border-color: transparent;\n",
              "      border-bottom-color: var(--fill-color);\n",
              "    }\n",
              "  }\n",
              "</style>\n",
              "\n",
              "  <script>\n",
              "    async function quickchart(key) {\n",
              "      const quickchartButtonEl =\n",
              "        document.querySelector('#' + key + ' button');\n",
              "      quickchartButtonEl.disabled = true;  // To prevent multiple clicks.\n",
              "      quickchartButtonEl.classList.add('colab-df-spinner');\n",
              "      try {\n",
              "        const charts = await google.colab.kernel.invokeFunction(\n",
              "            'suggestCharts', [key], {});\n",
              "      } catch (error) {\n",
              "        console.error('Error during call to suggestCharts:', error);\n",
              "      }\n",
              "      quickchartButtonEl.classList.remove('colab-df-spinner');\n",
              "      quickchartButtonEl.classList.add('colab-df-quickchart-complete');\n",
              "    }\n",
              "    (() => {\n",
              "      let quickchartButtonEl =\n",
              "        document.querySelector('#df-50a1f9ce-a8c3-4871-ab02-f72bc8357ecd button');\n",
              "      quickchartButtonEl.style.display =\n",
              "        google.colab.kernel.accessAllowed ? 'block' : 'none';\n",
              "    })();\n",
              "  </script>\n",
              "</div>\n",
              "\n",
              "    </div>\n",
              "  </div>\n"
            ],
            "application/vnd.google.colaboratory.intrinsic+json": {
              "type": "dataframe",
              "variable_name": "df",
              "summary": "{\n  \"name\": \"df\",\n  \"rows\": 179,\n  \"fields\": [\n    {\n      \"column\": \"TradeID\",\n      \"properties\": {\n        \"dtype\": \"category\",\n        \"num_unique_values\": 87,\n        \"samples\": [\n          \"T199\",\n          \"T123\",\n          \"T149\"\n        ],\n        \"semantic_type\": \"\",\n        \"description\": \"\"\n      }\n    },\n    {\n      \"column\": \"BookId\",\n      \"properties\": {\n        \"dtype\": \"number\",\n        \"std\": 2.8663117226181747,\n        \"min\": 101.0,\n        \"max\": 110.0,\n        \"num_unique_values\": 10,\n        \"samples\": [\n          109.0,\n          102.0,\n          106.0\n        ],\n        \"semantic_type\": \"\",\n        \"description\": \"\"\n      }\n    },\n    {\n      \"column\": \"PnLDate\",\n      \"properties\": {\n        \"dtype\": \"object\",\n        \"num_unique_values\": 113,\n        \"samples\": [\n          \"2024-03-12\",\n          \"2024-10-05\",\n          \"2024-11-03\"\n        ],\n        \"semantic_type\": \"\",\n        \"description\": \"\"\n      }\n    },\n    {\n      \"column\": \"PnL\",\n      \"properties\": {\n        \"dtype\": \"number\",\n        \"std\": 6766.055986821607,\n        \"min\": -13550.75,\n        \"max\": 13450.0,\n        \"num_unique_values\": 171,\n        \"samples\": [\n          -6650.0,\n          2050.5,\n          -2150.25\n        ],\n        \"semantic_type\": \"\",\n        \"description\": \"\"\n      }\n    }\n  ]\n}"
            }
          },
          "metadata": {},
          "execution_count": 8
        }
      ]
    },
    {
      "cell_type": "code",
      "source": [
        "# Add a column with the processing date\n",
        "df[\"Processed\"] = datetime.now().strftime(\"%Y-%m-%d %H:%M:%S\")"
      ],
      "metadata": {
        "id": "1DAF2U0Vbe2y"
      },
      "execution_count": 9,
      "outputs": []
    },
    {
      "cell_type": "code",
      "source": [
        "df.head()"
      ],
      "metadata": {
        "colab": {
          "base_uri": "https://localhost:8080/",
          "height": 206
        },
        "id": "R_1Skpu5cN7u",
        "outputId": "2a4b1661-4bbf-4b9f-dcf3-9c22f8c28de7"
      },
      "execution_count": 10,
      "outputs": [
        {
          "output_type": "execute_result",
          "data": {
            "text/plain": [
              "  TradeID  BookId     PnLDate      PnL            Processed\n",
              "0    T123   101.0  2024-10-01  1500.50  2025-02-02 11:36:25\n",
              "1    T123   102.0  2024-10-01  2000.75  2025-02-02 11:36:25\n",
              "2    T123   101.0  2024-10-02  -500.25  2025-02-02 11:36:25\n",
              "3    T124   102.0  2024-10-01   300.00  2025-02-02 11:36:25\n",
              "4    T124   103.0  2024-01-10     0.00  2025-02-02 11:36:25"
            ],
            "text/html": [
              "\n",
              "  <div id=\"df-d9e77b93-484a-4e89-85ee-bbca281ba109\" class=\"colab-df-container\">\n",
              "    <div>\n",
              "<style scoped>\n",
              "    .dataframe tbody tr th:only-of-type {\n",
              "        vertical-align: middle;\n",
              "    }\n",
              "\n",
              "    .dataframe tbody tr th {\n",
              "        vertical-align: top;\n",
              "    }\n",
              "\n",
              "    .dataframe thead th {\n",
              "        text-align: right;\n",
              "    }\n",
              "</style>\n",
              "<table border=\"1\" class=\"dataframe\">\n",
              "  <thead>\n",
              "    <tr style=\"text-align: right;\">\n",
              "      <th></th>\n",
              "      <th>TradeID</th>\n",
              "      <th>BookId</th>\n",
              "      <th>PnLDate</th>\n",
              "      <th>PnL</th>\n",
              "      <th>Processed</th>\n",
              "    </tr>\n",
              "  </thead>\n",
              "  <tbody>\n",
              "    <tr>\n",
              "      <th>0</th>\n",
              "      <td>T123</td>\n",
              "      <td>101.0</td>\n",
              "      <td>2024-10-01</td>\n",
              "      <td>1500.50</td>\n",
              "      <td>2025-02-02 11:36:25</td>\n",
              "    </tr>\n",
              "    <tr>\n",
              "      <th>1</th>\n",
              "      <td>T123</td>\n",
              "      <td>102.0</td>\n",
              "      <td>2024-10-01</td>\n",
              "      <td>2000.75</td>\n",
              "      <td>2025-02-02 11:36:25</td>\n",
              "    </tr>\n",
              "    <tr>\n",
              "      <th>2</th>\n",
              "      <td>T123</td>\n",
              "      <td>101.0</td>\n",
              "      <td>2024-10-02</td>\n",
              "      <td>-500.25</td>\n",
              "      <td>2025-02-02 11:36:25</td>\n",
              "    </tr>\n",
              "    <tr>\n",
              "      <th>3</th>\n",
              "      <td>T124</td>\n",
              "      <td>102.0</td>\n",
              "      <td>2024-10-01</td>\n",
              "      <td>300.00</td>\n",
              "      <td>2025-02-02 11:36:25</td>\n",
              "    </tr>\n",
              "    <tr>\n",
              "      <th>4</th>\n",
              "      <td>T124</td>\n",
              "      <td>103.0</td>\n",
              "      <td>2024-01-10</td>\n",
              "      <td>0.00</td>\n",
              "      <td>2025-02-02 11:36:25</td>\n",
              "    </tr>\n",
              "  </tbody>\n",
              "</table>\n",
              "</div>\n",
              "    <div class=\"colab-df-buttons\">\n",
              "\n",
              "  <div class=\"colab-df-container\">\n",
              "    <button class=\"colab-df-convert\" onclick=\"convertToInteractive('df-d9e77b93-484a-4e89-85ee-bbca281ba109')\"\n",
              "            title=\"Convert this dataframe to an interactive table.\"\n",
              "            style=\"display:none;\">\n",
              "\n",
              "  <svg xmlns=\"http://www.w3.org/2000/svg\" height=\"24px\" viewBox=\"0 -960 960 960\">\n",
              "    <path d=\"M120-120v-720h720v720H120Zm60-500h600v-160H180v160Zm220 220h160v-160H400v160Zm0 220h160v-160H400v160ZM180-400h160v-160H180v160Zm440 0h160v-160H620v160ZM180-180h160v-160H180v160Zm440 0h160v-160H620v160Z\"/>\n",
              "  </svg>\n",
              "    </button>\n",
              "\n",
              "  <style>\n",
              "    .colab-df-container {\n",
              "      display:flex;\n",
              "      gap: 12px;\n",
              "    }\n",
              "\n",
              "    .colab-df-convert {\n",
              "      background-color: #E8F0FE;\n",
              "      border: none;\n",
              "      border-radius: 50%;\n",
              "      cursor: pointer;\n",
              "      display: none;\n",
              "      fill: #1967D2;\n",
              "      height: 32px;\n",
              "      padding: 0 0 0 0;\n",
              "      width: 32px;\n",
              "    }\n",
              "\n",
              "    .colab-df-convert:hover {\n",
              "      background-color: #E2EBFA;\n",
              "      box-shadow: 0px 1px 2px rgba(60, 64, 67, 0.3), 0px 1px 3px 1px rgba(60, 64, 67, 0.15);\n",
              "      fill: #174EA6;\n",
              "    }\n",
              "\n",
              "    .colab-df-buttons div {\n",
              "      margin-bottom: 4px;\n",
              "    }\n",
              "\n",
              "    [theme=dark] .colab-df-convert {\n",
              "      background-color: #3B4455;\n",
              "      fill: #D2E3FC;\n",
              "    }\n",
              "\n",
              "    [theme=dark] .colab-df-convert:hover {\n",
              "      background-color: #434B5C;\n",
              "      box-shadow: 0px 1px 3px 1px rgba(0, 0, 0, 0.15);\n",
              "      filter: drop-shadow(0px 1px 2px rgba(0, 0, 0, 0.3));\n",
              "      fill: #FFFFFF;\n",
              "    }\n",
              "  </style>\n",
              "\n",
              "    <script>\n",
              "      const buttonEl =\n",
              "        document.querySelector('#df-d9e77b93-484a-4e89-85ee-bbca281ba109 button.colab-df-convert');\n",
              "      buttonEl.style.display =\n",
              "        google.colab.kernel.accessAllowed ? 'block' : 'none';\n",
              "\n",
              "      async function convertToInteractive(key) {\n",
              "        const element = document.querySelector('#df-d9e77b93-484a-4e89-85ee-bbca281ba109');\n",
              "        const dataTable =\n",
              "          await google.colab.kernel.invokeFunction('convertToInteractive',\n",
              "                                                    [key], {});\n",
              "        if (!dataTable) return;\n",
              "\n",
              "        const docLinkHtml = 'Like what you see? Visit the ' +\n",
              "          '<a target=\"_blank\" href=https://colab.research.google.com/notebooks/data_table.ipynb>data table notebook</a>'\n",
              "          + ' to learn more about interactive tables.';\n",
              "        element.innerHTML = '';\n",
              "        dataTable['output_type'] = 'display_data';\n",
              "        await google.colab.output.renderOutput(dataTable, element);\n",
              "        const docLink = document.createElement('div');\n",
              "        docLink.innerHTML = docLinkHtml;\n",
              "        element.appendChild(docLink);\n",
              "      }\n",
              "    </script>\n",
              "  </div>\n",
              "\n",
              "\n",
              "<div id=\"df-cd4e7f44-9341-4c96-9016-9ada2c2bdc18\">\n",
              "  <button class=\"colab-df-quickchart\" onclick=\"quickchart('df-cd4e7f44-9341-4c96-9016-9ada2c2bdc18')\"\n",
              "            title=\"Suggest charts\"\n",
              "            style=\"display:none;\">\n",
              "\n",
              "<svg xmlns=\"http://www.w3.org/2000/svg\" height=\"24px\"viewBox=\"0 0 24 24\"\n",
              "     width=\"24px\">\n",
              "    <g>\n",
              "        <path d=\"M19 3H5c-1.1 0-2 .9-2 2v14c0 1.1.9 2 2 2h14c1.1 0 2-.9 2-2V5c0-1.1-.9-2-2-2zM9 17H7v-7h2v7zm4 0h-2V7h2v10zm4 0h-2v-4h2v4z\"/>\n",
              "    </g>\n",
              "</svg>\n",
              "  </button>\n",
              "\n",
              "<style>\n",
              "  .colab-df-quickchart {\n",
              "      --bg-color: #E8F0FE;\n",
              "      --fill-color: #1967D2;\n",
              "      --hover-bg-color: #E2EBFA;\n",
              "      --hover-fill-color: #174EA6;\n",
              "      --disabled-fill-color: #AAA;\n",
              "      --disabled-bg-color: #DDD;\n",
              "  }\n",
              "\n",
              "  [theme=dark] .colab-df-quickchart {\n",
              "      --bg-color: #3B4455;\n",
              "      --fill-color: #D2E3FC;\n",
              "      --hover-bg-color: #434B5C;\n",
              "      --hover-fill-color: #FFFFFF;\n",
              "      --disabled-bg-color: #3B4455;\n",
              "      --disabled-fill-color: #666;\n",
              "  }\n",
              "\n",
              "  .colab-df-quickchart {\n",
              "    background-color: var(--bg-color);\n",
              "    border: none;\n",
              "    border-radius: 50%;\n",
              "    cursor: pointer;\n",
              "    display: none;\n",
              "    fill: var(--fill-color);\n",
              "    height: 32px;\n",
              "    padding: 0;\n",
              "    width: 32px;\n",
              "  }\n",
              "\n",
              "  .colab-df-quickchart:hover {\n",
              "    background-color: var(--hover-bg-color);\n",
              "    box-shadow: 0 1px 2px rgba(60, 64, 67, 0.3), 0 1px 3px 1px rgba(60, 64, 67, 0.15);\n",
              "    fill: var(--button-hover-fill-color);\n",
              "  }\n",
              "\n",
              "  .colab-df-quickchart-complete:disabled,\n",
              "  .colab-df-quickchart-complete:disabled:hover {\n",
              "    background-color: var(--disabled-bg-color);\n",
              "    fill: var(--disabled-fill-color);\n",
              "    box-shadow: none;\n",
              "  }\n",
              "\n",
              "  .colab-df-spinner {\n",
              "    border: 2px solid var(--fill-color);\n",
              "    border-color: transparent;\n",
              "    border-bottom-color: var(--fill-color);\n",
              "    animation:\n",
              "      spin 1s steps(1) infinite;\n",
              "  }\n",
              "\n",
              "  @keyframes spin {\n",
              "    0% {\n",
              "      border-color: transparent;\n",
              "      border-bottom-color: var(--fill-color);\n",
              "      border-left-color: var(--fill-color);\n",
              "    }\n",
              "    20% {\n",
              "      border-color: transparent;\n",
              "      border-left-color: var(--fill-color);\n",
              "      border-top-color: var(--fill-color);\n",
              "    }\n",
              "    30% {\n",
              "      border-color: transparent;\n",
              "      border-left-color: var(--fill-color);\n",
              "      border-top-color: var(--fill-color);\n",
              "      border-right-color: var(--fill-color);\n",
              "    }\n",
              "    40% {\n",
              "      border-color: transparent;\n",
              "      border-right-color: var(--fill-color);\n",
              "      border-top-color: var(--fill-color);\n",
              "    }\n",
              "    60% {\n",
              "      border-color: transparent;\n",
              "      border-right-color: var(--fill-color);\n",
              "    }\n",
              "    80% {\n",
              "      border-color: transparent;\n",
              "      border-right-color: var(--fill-color);\n",
              "      border-bottom-color: var(--fill-color);\n",
              "    }\n",
              "    90% {\n",
              "      border-color: transparent;\n",
              "      border-bottom-color: var(--fill-color);\n",
              "    }\n",
              "  }\n",
              "</style>\n",
              "\n",
              "  <script>\n",
              "    async function quickchart(key) {\n",
              "      const quickchartButtonEl =\n",
              "        document.querySelector('#' + key + ' button');\n",
              "      quickchartButtonEl.disabled = true;  // To prevent multiple clicks.\n",
              "      quickchartButtonEl.classList.add('colab-df-spinner');\n",
              "      try {\n",
              "        const charts = await google.colab.kernel.invokeFunction(\n",
              "            'suggestCharts', [key], {});\n",
              "      } catch (error) {\n",
              "        console.error('Error during call to suggestCharts:', error);\n",
              "      }\n",
              "      quickchartButtonEl.classList.remove('colab-df-spinner');\n",
              "      quickchartButtonEl.classList.add('colab-df-quickchart-complete');\n",
              "    }\n",
              "    (() => {\n",
              "      let quickchartButtonEl =\n",
              "        document.querySelector('#df-cd4e7f44-9341-4c96-9016-9ada2c2bdc18 button');\n",
              "      quickchartButtonEl.style.display =\n",
              "        google.colab.kernel.accessAllowed ? 'block' : 'none';\n",
              "    })();\n",
              "  </script>\n",
              "</div>\n",
              "\n",
              "    </div>\n",
              "  </div>\n"
            ],
            "application/vnd.google.colaboratory.intrinsic+json": {
              "type": "dataframe",
              "variable_name": "df",
              "summary": "{\n  \"name\": \"df\",\n  \"rows\": 179,\n  \"fields\": [\n    {\n      \"column\": \"TradeID\",\n      \"properties\": {\n        \"dtype\": \"category\",\n        \"num_unique_values\": 87,\n        \"samples\": [\n          \"T199\",\n          \"T123\",\n          \"T149\"\n        ],\n        \"semantic_type\": \"\",\n        \"description\": \"\"\n      }\n    },\n    {\n      \"column\": \"BookId\",\n      \"properties\": {\n        \"dtype\": \"number\",\n        \"std\": 2.8663117226181747,\n        \"min\": 101.0,\n        \"max\": 110.0,\n        \"num_unique_values\": 10,\n        \"samples\": [\n          109.0,\n          102.0,\n          106.0\n        ],\n        \"semantic_type\": \"\",\n        \"description\": \"\"\n      }\n    },\n    {\n      \"column\": \"PnLDate\",\n      \"properties\": {\n        \"dtype\": \"object\",\n        \"num_unique_values\": 113,\n        \"samples\": [\n          \"2024-03-12\",\n          \"2024-10-05\",\n          \"2024-11-03\"\n        ],\n        \"semantic_type\": \"\",\n        \"description\": \"\"\n      }\n    },\n    {\n      \"column\": \"PnL\",\n      \"properties\": {\n        \"dtype\": \"number\",\n        \"std\": 6766.055986821607,\n        \"min\": -13550.75,\n        \"max\": 13450.0,\n        \"num_unique_values\": 171,\n        \"samples\": [\n          -6650.0,\n          2050.5,\n          -2150.25\n        ],\n        \"semantic_type\": \"\",\n        \"description\": \"\"\n      }\n    },\n    {\n      \"column\": \"Processed\",\n      \"properties\": {\n        \"dtype\": \"object\",\n        \"num_unique_values\": 1,\n        \"samples\": [\n          \"2025-02-02 11:36:25\"\n        ],\n        \"semantic_type\": \"\",\n        \"description\": \"\"\n      }\n    }\n  ]\n}"
            }
          },
          "metadata": {},
          "execution_count": 10
        }
      ]
    },
    {
      "cell_type": "markdown",
      "source": [
        "## 3. Value at Risk (VaR) Calculation 🔢"
      ],
      "metadata": {
        "id": "XUr6016udvZZ"
      }
    },
    {
      "cell_type": "markdown",
      "source": [
        "i. Aggregate the PnL values by PnL date"
      ],
      "metadata": {
        "id": "S6cKMCs4iqE_"
      }
    },
    {
      "cell_type": "code",
      "source": [
        "df_agg = df.groupby(\"PnLDate\")[\"PnL\"].sum().reset_index()"
      ],
      "metadata": {
        "id": "tY8U1BVWi2oo"
      },
      "execution_count": 11,
      "outputs": []
    },
    {
      "cell_type": "markdown",
      "source": [
        "ii. Sort the aggregated values in ascending order"
      ],
      "metadata": {
        "id": "QwxKux_kiwLY"
      }
    },
    {
      "cell_type": "code",
      "source": [
        "df_agg = df_agg.sort_values(by=\"PnL\")"
      ],
      "metadata": {
        "id": "9GNIQnyii_r0"
      },
      "execution_count": 12,
      "outputs": []
    },
    {
      "cell_type": "markdown",
      "source": [
        "iii. Find the position in the aggregated data associated with the chosen confidence level"
      ],
      "metadata": {
        "id": "M-7fU9cRixQH"
      }
    },
    {
      "cell_type": "code",
      "source": [
        "def position_var(data, confidence_level):\n",
        "    pos_var = int(np.ceil((1 - confidence_level) * len(data))) - 1\n",
        "    return data.iloc[pos_var]"
      ],
      "metadata": {
        "id": "YMMWhDxXjF4Y"
      },
      "execution_count": 16,
      "outputs": []
    },
    {
      "cell_type": "markdown",
      "source": [
        "iv. VaR is the value associated with this position"
      ],
      "metadata": {
        "id": "pteQeGbEizHn"
      }
    },
    {
      "cell_type": "code",
      "source": [
        "# a. Calculate VaR for every trade at the 95% confidence level\n",
        "var_95_conf = df.groupby(\"TradeID\")[\"PnL\"].apply(lambda x: position_var(x.sort_values(), 0.95))\n",
        "print(var_95_conf)"
      ],
      "metadata": {
        "colab": {
          "base_uri": "https://localhost:8080/"
        },
        "id": "bGJg6RApcag_",
        "outputId": "1406d41d-63bf-4f8d-840b-2d5704a3360f"
      },
      "execution_count": 22,
      "outputs": [
        {
          "output_type": "stream",
          "name": "stdout",
          "text": [
            "TradeID\n",
            "T123     -500.25\n",
            "T124        0.00\n",
            "T125     -250.50\n",
            "T126     -100.00\n",
            "T127     -600.50\n",
            "          ...   \n",
            "T205   -12750.75\n",
            "T206    12850.50\n",
            "T207   -13050.00\n",
            "T208   -13350.25\n",
            "T209   -13550.75\n",
            "Name: PnL, Length: 87, dtype: float64\n"
          ]
        }
      ]
    },
    {
      "cell_type": "markdown",
      "source": [
        "The VaR at 95% confidence level per trade shows the maximum expected loss for each trade under normal market conditions. Some trades (e.g., T123) have negative VaR values, indicating expected potential losses. A few trades have a VaR of 0.00, suggesting that those trades did not experience significant adverse price movements."
      ],
      "metadata": {
        "id": "UP_ZKsD7ICxO"
      }
    },
    {
      "cell_type": "code",
      "source": [
        "# b. Calculate VaR for every trade at the 97.5% confidence level\n",
        "var_975_conf = df.groupby(\"TradeID\")[\"PnL\"].apply(lambda x: position_var(x.sort_values(), 0.975))\n",
        "print(var_975_conf)"
      ],
      "metadata": {
        "colab": {
          "base_uri": "https://localhost:8080/"
        },
        "id": "JgT0nMScku8C",
        "outputId": "0a994168-27c2-4438-b922-ca8d6ac397db"
      },
      "execution_count": 23,
      "outputs": [
        {
          "output_type": "stream",
          "name": "stdout",
          "text": [
            "TradeID\n",
            "T123     -500.25\n",
            "T124        0.00\n",
            "T125     -250.50\n",
            "T126     -100.00\n",
            "T127     -600.50\n",
            "          ...   \n",
            "T205   -12750.75\n",
            "T206    12850.50\n",
            "T207   -13050.00\n",
            "T208   -13350.25\n",
            "T209   -13550.75\n",
            "Name: PnL, Length: 87, dtype: float64\n"
          ]
        }
      ]
    },
    {
      "cell_type": "markdown",
      "source": [
        "The VaR at 97.5% confidence level provides a stricter threshold than the 95% level. Generally, the values are lower (more negative) than the 95% level, reflecting higher potential losses when accounting for a more extreme market scenario."
      ],
      "metadata": {
        "id": "bjPKshThIlAr"
      }
    },
    {
      "cell_type": "code",
      "source": [
        "# c. Calculate VaR at the 95% confidence level across all trades\n",
        "var_95_all_trade = position_var(df[\"PnL\"].sort_values(), 0.95)\n",
        "print(var_95_all_trade)"
      ],
      "metadata": {
        "colab": {
          "base_uri": "https://localhost:8080/"
        },
        "id": "ETxp94M3kzFR",
        "outputId": "e877dcb8-3f7f-4f39-f01e-3d165a806d97"
      },
      "execution_count": 24,
      "outputs": [
        {
          "output_type": "stream",
          "name": "stdout",
          "text": [
            "-11450.0\n"
          ]
        }
      ]
    },
    {
      "cell_type": "markdown",
      "source": [
        "The VaR at 99% per book aggregates risk at a higher level, showing the worst potential losses for each book of trades. This helps determine which books are at the highest risk and may require further hedging or diversification. Larger absolute VaR values indicate books that are more volatile or hold riskier positions."
      ],
      "metadata": {
        "id": "4qmtabJuIwHk"
      }
    },
    {
      "cell_type": "code",
      "source": [
        "# d. VaR at the 99% confidence level per book\n",
        "var_99_book = df.groupby(\"BookId\")[\"PnL\"].apply(lambda x: position_var(x.sort_values(), 0.99))\n",
        "print(var_99_book)"
      ],
      "metadata": {
        "colab": {
          "base_uri": "https://localhost:8080/"
        },
        "id": "5m92X3KAlfGE",
        "outputId": "cf0b4bf6-1896-430d-dd30-bd83fb19254d"
      },
      "execution_count": 25,
      "outputs": [
        {
          "output_type": "stream",
          "name": "stdout",
          "text": [
            "BookId\n",
            "101.0   -10650.00\n",
            "102.0   -12750.75\n",
            "103.0    -5850.00\n",
            "104.0   -11950.75\n",
            "105.0   -13050.00\n",
            "106.0   -11150.75\n",
            "107.0   -12250.00\n",
            "108.0   -13350.25\n",
            "109.0   -11450.00\n",
            "110.0   -13550.75\n",
            "Name: PnL, dtype: float64\n"
          ]
        }
      ]
    },
    {
      "cell_type": "markdown",
      "source": [
        "The overall 95% VaR across all trades represents the portfolio-wide risk exposure. A significantly large negative value suggests a considerable risk across all trades. If this number is relatively small, it implies diversification effects where losses from some trades are offset by gains in others."
      ],
      "metadata": {
        "id": "tJRnQhs4JRBm"
      }
    },
    {
      "cell_type": "markdown",
      "source": [
        "## 4. Output Results and Data Storage 📈"
      ],
      "metadata": {
        "id": "3Gnm6JCE462A"
      }
    },
    {
      "cell_type": "markdown",
      "source": [
        "The output and data storage section follows a structured Medallion Architecture approach to store and organise data at different processing stages. This ensures data integrity, accessibility and efficient risk reporting."
      ],
      "metadata": {
        "id": "3ThWP2oRJp25"
      }
    },
    {
      "cell_type": "markdown",
      "source": [
        "The bronze layer stores the cleaned raw data after initial parsing and transformations. This ensures the cleaned data is available for further transformations and risk calculations."
      ],
      "metadata": {
        "id": "cJm7v5FOJ8G4"
      }
    },
    {
      "cell_type": "code",
      "source": [
        "#Medallion Pattern: Bronze Results\n",
        "bronze_results = \"/content/bronze/cleaned_data.csv\"\n",
        "os.makedirs(os.path.dirname(bronze_results), exist_ok=True)\n",
        "df.to_csv(bronze_results, index=False)"
      ],
      "metadata": {
        "id": "TOrGyQ1CnBdx"
      },
      "execution_count": 36,
      "outputs": []
    },
    {
      "cell_type": "markdown",
      "source": [
        "The silver layer stores intermediate analytical results i.e., the computed Value at Risk (VaR) metrics. This allows easier access to processed and structured risk analytics for further analysis."
      ],
      "metadata": {
        "id": "E8HF-86KKGG9"
      }
    },
    {
      "cell_type": "code",
      "source": [
        "#Medallion Pattern: Silver Results\n",
        "silver_results = \"/content/silver/\"\n",
        "os.makedirs(silver_results, exist_ok=True)\n",
        "var_95_conf.to_csv(os.path.join(silver_results, \"var_95_trade.csv\"), header=True)\n",
        "var_975_conf.to_csv(os.path.join(silver_results, \"var_975_trade.csv\"), header=True)\n",
        "pd.DataFrame({\"var_95_all_trade\": [var_95_all_trade]}).to_csv(os.path.join(silver_results, \"var_95_all_trade.csv\"), index=False)\n",
        "var_99_book.to_csv(os.path.join(silver_results, \"var_99_book.csv\"), header=True)"
      ],
      "metadata": {
        "id": "eeo6haX75BqK"
      },
      "execution_count": 37,
      "outputs": []
    },
    {
      "cell_type": "markdown",
      "source": [
        "The gold layer stores a high level summary report linking key risk metrics to their storage locations. This simplifies reporting and traceability and ensures for analysis in respective file locations."
      ],
      "metadata": {
        "id": "46JmN0aYKW49"
      }
    },
    {
      "cell_type": "code",
      "source": [
        "#Medallion Pattern: Gold Results\n",
        "gold_results = \"/content/gold/summary_report.csv\"\n",
        "os.makedirs(os.path.dirname(gold_results), exist_ok=True)\n",
        "mp_results = {\n",
        "    \"Metric\": [\"VaR_95_Per_Trade\", \"var_975_trade\", \"var_95_all_trade\", \"var_99_book\"],\n",
        "    \"Location\": [\n",
        "        os.path.join(silver_results, \"var_95_trade.csv\"),\n",
        "        os.path.join(silver_results, \"var_975_trade.csv\"),\n",
        "        os.path.join(silver_results, \"var_95_all_trade.csv\"),\n",
        "        os.path.join(silver_results, \"var_99_book.csv\")\n",
        "    ]\n",
        "}\n",
        "pd.DataFrame(mp_results).to_csv(gold_results, index=False)"
      ],
      "metadata": {
        "id": "5AeB5BbjtwdX"
      },
      "execution_count": 42,
      "outputs": []
    },
    {
      "cell_type": "code",
      "source": [
        "print(\"Medallion Pattern Results:\")\n",
        "print(pd.DataFrame(mp_results))"
      ],
      "metadata": {
        "colab": {
          "base_uri": "https://localhost:8080/"
        },
        "id": "in9J1mBL9Lq3",
        "outputId": "4e8c9f7e-814a-4d2f-bdd4-f79ee1ad1e7e"
      },
      "execution_count": 41,
      "outputs": [
        {
          "output_type": "stream",
          "name": "stdout",
          "text": [
            "Medallion Pattern Results:\n",
            "             Metric                              Location\n",
            "0  VaR_95_Per_Trade      /content/silver/var_95_trade.csv\n",
            "1     var_975_trade     /content/silver/var_975_trade.csv\n",
            "2  var_95_all_trade  /content/silver/var_95_all_trade.csv\n",
            "3       var_99_book       /content/silver/var_99_book.csv\n"
          ]
        }
      ]
    },
    {
      "cell_type": "code",
      "source": [
        "!ls /content/\n",
        "!ls /content/bronze/\n",
        "!ls /content/silver/\n",
        "!ls /content/gold/"
      ],
      "metadata": {
        "colab": {
          "base_uri": "https://localhost:8080/"
        },
        "id": "u2mC_UA94lHN",
        "outputId": "71eb0841-7ea9-4e26-ae7d-9ecc8d6fc41e"
      },
      "execution_count": 39,
      "outputs": [
        {
          "output_type": "stream",
          "name": "stdout",
          "text": [
            " bronze\t\t\t\t     'data_engineer_sample_data (2).csv'   Documents   sample_data\n",
            "'data_engineer_sample_data (1).csv'   data_engineer_sample_data.csv\t   gold        silver\n",
            "cleaned_data.csv\n",
            "var_95_all_trade.csv  var_95_trade.csv\tvar_975_trade.csv  var_99_book.csv\n",
            "summary_report.csv\n"
          ]
        }
      ]
    },
    {
      "cell_type": "code",
      "source": [
        "from google.colab import files\n",
        "files.download('/content/gold/summary_report.csv')\n",
        "!zip -r pnl_task_results.zip /content/\n",
        "files.download('pnl_task_results.zip')"
      ],
      "metadata": {
        "colab": {
          "base_uri": "https://localhost:8080/",
          "height": 946
        },
        "id": "gwTF_gJ78Buj",
        "outputId": "31110c1d-3a1e-4d60-dfb3-57f3b12de552"
      },
      "execution_count": 40,
      "outputs": [
        {
          "output_type": "display_data",
          "data": {
            "text/plain": [
              "<IPython.core.display.Javascript object>"
            ],
            "application/javascript": [
              "\n",
              "    async function download(id, filename, size) {\n",
              "      if (!google.colab.kernel.accessAllowed) {\n",
              "        return;\n",
              "      }\n",
              "      const div = document.createElement('div');\n",
              "      const label = document.createElement('label');\n",
              "      label.textContent = `Downloading \"${filename}\": `;\n",
              "      div.appendChild(label);\n",
              "      const progress = document.createElement('progress');\n",
              "      progress.max = size;\n",
              "      div.appendChild(progress);\n",
              "      document.body.appendChild(div);\n",
              "\n",
              "      const buffers = [];\n",
              "      let downloaded = 0;\n",
              "\n",
              "      const channel = await google.colab.kernel.comms.open(id);\n",
              "      // Send a message to notify the kernel that we're ready.\n",
              "      channel.send({})\n",
              "\n",
              "      for await (const message of channel.messages) {\n",
              "        // Send a message to notify the kernel that we're ready.\n",
              "        channel.send({})\n",
              "        if (message.buffers) {\n",
              "          for (const buffer of message.buffers) {\n",
              "            buffers.push(buffer);\n",
              "            downloaded += buffer.byteLength;\n",
              "            progress.value = downloaded;\n",
              "          }\n",
              "        }\n",
              "      }\n",
              "      const blob = new Blob(buffers, {type: 'application/binary'});\n",
              "      const a = document.createElement('a');\n",
              "      a.href = window.URL.createObjectURL(blob);\n",
              "      a.download = filename;\n",
              "      div.appendChild(a);\n",
              "      a.click();\n",
              "      div.remove();\n",
              "    }\n",
              "  "
            ]
          },
          "metadata": {}
        },
        {
          "output_type": "display_data",
          "data": {
            "text/plain": [
              "<IPython.core.display.Javascript object>"
            ],
            "application/javascript": [
              "download(\"download_f1d7a38e-617a-4990-ac90-2fdd0edb8016\", \"summary_report.csv\", 212)"
            ]
          },
          "metadata": {}
        },
        {
          "output_type": "stream",
          "name": "stdout",
          "text": [
            "  adding: content/ (stored 0%)\n",
            "  adding: content/.config/ (stored 0%)\n",
            "  adding: content/.config/configurations/ (stored 0%)\n",
            "  adding: content/.config/configurations/config_default (deflated 15%)\n",
            "  adding: content/.config/gce (stored 0%)\n",
            "  adding: content/.config/default_configs.db (deflated 98%)\n",
            "  adding: content/.config/hidden_gcloud_config_universe_descriptor_data_cache_configs.db (deflated 97%)\n",
            "  adding: content/.config/.last_opt_in_prompt.yaml (stored 0%)\n",
            "  adding: content/.config/logs/ (stored 0%)\n",
            "  adding: content/.config/logs/2025.01.30/ (stored 0%)\n",
            "  adding: content/.config/logs/2025.01.30/14.18.57.126926.log (deflated 57%)\n",
            "  adding: content/.config/logs/2025.01.30/14.18.44.811352.log (deflated 87%)\n",
            "  adding: content/.config/logs/2025.01.30/14.18.57.806410.log (deflated 56%)\n",
            "  adding: content/.config/logs/2025.01.30/14.18.46.676701.log (deflated 58%)\n",
            "  adding: content/.config/logs/2025.01.30/14.18.35.872284.log (deflated 58%)\n",
            "  adding: content/.config/logs/2025.01.30/14.18.13.593389.log (deflated 93%)\n",
            "  adding: content/.config/.last_update_check.json (deflated 23%)\n",
            "  adding: content/.config/active_config (stored 0%)\n",
            "  adding: content/.config/config_sentinel (stored 0%)\n",
            "  adding: content/.config/.last_survey_prompt.yaml (stored 0%)\n",
            "  adding: content/Documents/ (stored 0%)\n",
            "  adding: content/Documents/dev/ (stored 0%)\n",
            "  adding: content/Documents/dev/pnl_task/ (stored 0%)\n",
            "  adding: content/Documents/dev/pnl_task/data/ (stored 0%)\n",
            "  adding: content/Documents/dev/pnl_task/data/bronze/ (stored 0%)\n",
            "  adding: content/Documents/dev/pnl_task/data/bronze/cleaned_data.csv (deflated 84%)\n",
            "  adding: content/Documents/dev/pnl_task/data/silver/ (stored 0%)\n",
            "  adding: content/Documents/dev/pnl_task/data/silver/var_95_all_trade.csv (stored 0%)\n",
            "  adding: content/Documents/dev/pnl_task/data/silver/var_975_trade.csv (deflated 64%)\n",
            "  adding: content/Documents/dev/pnl_task/data/silver/var_95_trade.csv (deflated 64%)\n",
            "  adding: content/Documents/dev/pnl_task/data/silver/var_99_book.csv (deflated 47%)\n",
            "  adding: content/Documents/dev/pnl_task/data/gold/ (stored 0%)\n",
            "  adding: content/Documents/dev/pnl_task/data/gold/summary_report.csv (deflated 60%)\n",
            "  adding: content/data_engineer_sample_data.csv (deflated 73%)\n",
            "  adding: content/data_engineer_sample_data (1).csv (deflated 73%)\n",
            "  adding: content/bronze/ (stored 0%)\n",
            "  adding: content/bronze/cleaned_data.csv (deflated 84%)\n",
            "  adding: content/data_engineer_sample_data (2).csv (deflated 73%)\n",
            "  adding: content/silver/ (stored 0%)\n",
            "  adding: content/silver/var_95_all_trade.csv (stored 0%)\n",
            "  adding: content/silver/var_975_trade.csv (deflated 64%)\n",
            "  adding: content/silver/var_95_trade.csv (deflated 64%)\n",
            "  adding: content/silver/var_99_book.csv (deflated 47%)\n",
            "  adding: content/gold/ (stored 0%)\n",
            "  adding: content/gold/summary_report.csv (deflated 54%)\n",
            "  adding: content/sample_data/ (stored 0%)\n",
            "  adding: content/sample_data/anscombe.json (deflated 83%)\n",
            "  adding: content/sample_data/README.md (deflated 39%)\n",
            "  adding: content/sample_data/california_housing_test.csv (deflated 76%)\n",
            "  adding: content/sample_data/mnist_test.csv (deflated 88%)\n",
            "  adding: content/sample_data/mnist_train_small.csv (deflated 88%)\n",
            "  adding: content/sample_data/california_housing_train.csv (deflated 79%)\n"
          ]
        },
        {
          "output_type": "display_data",
          "data": {
            "text/plain": [
              "<IPython.core.display.Javascript object>"
            ],
            "application/javascript": [
              "\n",
              "    async function download(id, filename, size) {\n",
              "      if (!google.colab.kernel.accessAllowed) {\n",
              "        return;\n",
              "      }\n",
              "      const div = document.createElement('div');\n",
              "      const label = document.createElement('label');\n",
              "      label.textContent = `Downloading \"${filename}\": `;\n",
              "      div.appendChild(label);\n",
              "      const progress = document.createElement('progress');\n",
              "      progress.max = size;\n",
              "      div.appendChild(progress);\n",
              "      document.body.appendChild(div);\n",
              "\n",
              "      const buffers = [];\n",
              "      let downloaded = 0;\n",
              "\n",
              "      const channel = await google.colab.kernel.comms.open(id);\n",
              "      // Send a message to notify the kernel that we're ready.\n",
              "      channel.send({})\n",
              "\n",
              "      for await (const message of channel.messages) {\n",
              "        // Send a message to notify the kernel that we're ready.\n",
              "        channel.send({})\n",
              "        if (message.buffers) {\n",
              "          for (const buffer of message.buffers) {\n",
              "            buffers.push(buffer);\n",
              "            downloaded += buffer.byteLength;\n",
              "            progress.value = downloaded;\n",
              "          }\n",
              "        }\n",
              "      }\n",
              "      const blob = new Blob(buffers, {type: 'application/binary'});\n",
              "      const a = document.createElement('a');\n",
              "      a.href = window.URL.createObjectURL(blob);\n",
              "      a.download = filename;\n",
              "      div.appendChild(a);\n",
              "      a.click();\n",
              "      div.remove();\n",
              "    }\n",
              "  "
            ]
          },
          "metadata": {}
        },
        {
          "output_type": "display_data",
          "data": {
            "text/plain": [
              "<IPython.core.display.Javascript object>"
            ],
            "application/javascript": [
              "download(\"download_53789033-932c-40e2-a078-1870ac4708ca\", \"pnl_task_results.zip\", 7089723)"
            ]
          },
          "metadata": {}
        }
      ]
    },
    {
      "cell_type": "code",
      "source": [],
      "metadata": {
        "id": "4RWbLrr88QtR"
      },
      "execution_count": null,
      "outputs": []
    }
  ]
}